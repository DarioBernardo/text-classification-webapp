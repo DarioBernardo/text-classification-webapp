{
 "cells": [
  {
   "cell_type": "code",
   "execution_count": 1,
   "metadata": {
    "collapsed": true
   },
   "outputs": [],
   "source": [
    "from client import classify_text_polling"
   ]
  },
  {
   "cell_type": "code",
   "execution_count": 18,
   "outputs": [],
   "source": [
    "import json\n",
    "\n",
    "def read_classes(file_path):\n",
    "    with open(file_path, \"r\") as file:\n",
    "        data = json.load(file)\n",
    "\n",
    "    return data[\"classes\"]"
   ],
   "metadata": {
    "collapsed": false
   }
  },
  {
   "cell_type": "code",
   "execution_count": 19,
   "outputs": [
    {
     "name": "stdout",
     "output_type": "stream",
     "text": [
      "Submitting task...\n",
      "Task submitted. Task ID: fb74d576-1ad9-4d2d-814e-30a5f2c450c7\n",
      "Checking task: fb74d576-1ad9-4d2d-814e-30a5f2c450c7\t pool attempt: 1 of 15\n",
      "Checking task: fb74d576-1ad9-4d2d-814e-30a5f2c450c7\t pool attempt: 2 of 15\n",
      "Checking task: fb74d576-1ad9-4d2d-814e-30a5f2c450c7\t pool attempt: 3 of 15\n"
     ]
    },
    {
     "data": {
      "text/plain": "{'reasoning': 'The text mentions vanilla and chocolate flavors, which correspond to Vanilla Ice Cream and Chocolate Ice Cream classes.',\n 'result': ['V1', 'C1']}"
     },
     "execution_count": 19,
     "metadata": {},
     "output_type": "execute_result"
    }
   ],
   "source": [
    "classes = read_classes(\"../evaluation/data/case_1.json\")\n",
    "\n",
    "classify_text_polling(\n",
    "    text=\"Can I get a scoop of vanilla and a scoop of chocolate?\",\n",
    "    options={\"multilabel\": True, \"show_reasoning\": True}, classes = classes, temperature=0.0)"
   ],
   "metadata": {
    "collapsed": false
   }
  },
  {
   "cell_type": "code",
   "execution_count": 22,
   "outputs": [
    {
     "name": "stdout",
     "output_type": "stream",
     "text": [
      "Submitting task...\n",
      "Task submitted. Task ID: e99adacb-9dcc-42b4-91bb-fd2e20cc4cdb\n",
      "Checking task: e99adacb-9dcc-42b4-91bb-fd2e20cc4cdb\t pool attempt: 1 of 15\n",
      "Checking task: e99adacb-9dcc-42b4-91bb-fd2e20cc4cdb\t pool attempt: 2 of 15\n",
      "Checking task: e99adacb-9dcc-42b4-91bb-fd2e20cc4cdb\t pool attempt: 3 of 15\n"
     ]
    },
    {
     "data": {
      "text/plain": "{'reasoning': \"The text mentions making a cup of coffee, which indicates a reference to coffee. Therefore, it belongs to the 'Coffee Ice Cream' class.\",\n 'result': ['C2']}"
     },
     "execution_count": 22,
     "metadata": {},
     "output_type": "execute_result"
    }
   ],
   "source": [
    "classes = read_classes(\"../evaluation/data/case_1.json\")\n",
    "\n",
    "classify_text_polling(\n",
    "    text=\"How do I make a cup of coffee?\",\n",
    "    options={\"multilabel\": True, \"show_reasoning\": True}, classes = classes, temperature=0.0)"
   ],
   "metadata": {
    "collapsed": false
   }
  },
  {
   "cell_type": "code",
   "execution_count": 23,
   "outputs": [
    {
     "name": "stdout",
     "output_type": "stream",
     "text": [
      "Submitting task...\n",
      "Task submitted. Task ID: a63dc0fd-15d5-465a-88e8-7169357155c2\n",
      "Checking task: a63dc0fd-15d5-465a-88e8-7169357155c2\t pool attempt: 1 of 15\n",
      "Checking task: a63dc0fd-15d5-465a-88e8-7169357155c2\t pool attempt: 2 of 15\n",
      "Checking task: a63dc0fd-15d5-465a-88e8-7169357155c2\t pool attempt: 3 of 15\n"
     ]
    },
    {
     "data": {
      "text/plain": "{'reasoning': 'The text mentions a recipe for a chocolate cake, indicating the presence of chocolate as a key ingredient.',\n 'result': ['C1']}"
     },
     "execution_count": 23,
     "metadata": {},
     "output_type": "execute_result"
    }
   ],
   "source": [
    "classes = read_classes(\"../evaluation/data/case_1.json\")\n",
    "\n",
    "classify_text_polling(\n",
    "    text=\"I need a recipe for a chocolate cake.\",\n",
    "    options={\"multilabel\": True, \"show_reasoning\": True}, classes = classes, temperature=0.0)"
   ],
   "metadata": {
    "collapsed": false
   }
  },
  {
   "cell_type": "code",
   "execution_count": 25,
   "outputs": [
    {
     "name": "stdout",
     "output_type": "stream",
     "text": [
      "Submitting task...\n",
      "Task submitted. Task ID: 89b65937-8ba3-4b74-9de8-2e94c538b62f\n",
      "Checking task: 89b65937-8ba3-4b74-9de8-2e94c538b62f\t pool attempt: 1 of 15\n",
      "Checking task: 89b65937-8ba3-4b74-9de8-2e94c538b62f\t pool attempt: 2 of 15\n",
      "Checking task: 89b65937-8ba3-4b74-9de8-2e94c538b62f\t pool attempt: 3 of 15\n"
     ]
    },
    {
     "data": {
      "text/plain": "{'reasoning': 'The text expresses gratitude towards the recipient for their support and guidance, indicating a positive sentiment. Additionally, the user apologizes for any inconvenience caused by their mistakes, showing acknowledgment and regret for their actions.',\n 'result': ['T1', 'Ap1']}"
     },
     "execution_count": 25,
     "metadata": {},
     "output_type": "execute_result"
    }
   ],
   "source": [
    "classes = read_classes(\"../evaluation/data/case_2.json\")\n",
    "\n",
    "classify_text_polling(\n",
    "    text=\"Hi, I wanted to express my gratitude for your support and guidance over the past few months. Your mentorship has been invaluable to me, and I've learned a great deal that I'm sure will be beneficial in my career moving forward. Also, I'd like to apologize for any inconvenience my mistakes may have caused you. I appreciate your patience and the constructive feedback you've provided, helping me grow professionally. Thank you once again.\",\n",
    "    options={\"multilabel\": True, \"show_reasoning\": True}, classes = classes, temperature=0.0)"
   ],
   "metadata": {
    "collapsed": false
   }
  },
  {
   "cell_type": "code",
   "execution_count": null,
   "outputs": [],
   "source": [],
   "metadata": {
    "collapsed": false
   }
  }
 ],
 "metadata": {
  "kernelspec": {
   "display_name": "Python 3",
   "language": "python",
   "name": "python3"
  },
  "language_info": {
   "codemirror_mode": {
    "name": "ipython",
    "version": 2
   },
   "file_extension": ".py",
   "mimetype": "text/x-python",
   "name": "python",
   "nbconvert_exporter": "python",
   "pygments_lexer": "ipython2",
   "version": "2.7.6"
  }
 },
 "nbformat": 4,
 "nbformat_minor": 0
}
