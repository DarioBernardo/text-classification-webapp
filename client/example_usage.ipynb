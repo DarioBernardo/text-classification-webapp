{
 "cells": [
  {
   "cell_type": "code",
   "execution_count": 1,
   "metadata": {
    "collapsed": true
   },
   "outputs": [],
   "source": [
    "from client import classify_text_polling"
   ]
  },
  {
   "cell_type": "code",
   "execution_count": 2,
   "outputs": [
    {
     "name": "stdout",
     "output_type": "stream",
     "text": [
      "Submitting task...\n",
      "Task submitted. Task ID: a7b1510a-8c4e-42e9-95fa-1488526b2da9\n",
      "Checking task: a7b1510a-8c4e-42e9-95fa-1488526b2da9\t pool attempt: 1\n",
      "Checking task: a7b1510a-8c4e-42e9-95fa-1488526b2da9\t pool attempt: 2\n",
      "Checking task: a7b1510a-8c4e-42e9-95fa-1488526b2da9\t pool attempt: 3\n",
      "Checking task: a7b1510a-8c4e-42e9-95fa-1488526b2da9\t pool attempt: 4\n",
      "Checking task: a7b1510a-8c4e-42e9-95fa-1488526b2da9\t pool attempt: 5\n",
      "Checking task: a7b1510a-8c4e-42e9-95fa-1488526b2da9\t pool attempt: 6\n"
     ]
    },
    {
     "data": {
      "text/plain": "{'result': 8.0}"
     },
     "execution_count": 2,
     "metadata": {},
     "output_type": "execute_result"
    }
   ],
   "source": [
    "classify_text_polling(text=\"I am so happy!!!\", temperature=0.5)"
   ],
   "metadata": {
    "collapsed": false
   }
  },
  {
   "cell_type": "code",
   "execution_count": null,
   "outputs": [],
   "source": [],
   "metadata": {
    "collapsed": false
   }
  }
 ],
 "metadata": {
  "kernelspec": {
   "display_name": "Python 3",
   "language": "python",
   "name": "python3"
  },
  "language_info": {
   "codemirror_mode": {
    "name": "ipython",
    "version": 2
   },
   "file_extension": ".py",
   "mimetype": "text/x-python",
   "name": "python",
   "nbconvert_exporter": "python",
   "pygments_lexer": "ipython2",
   "version": "2.7.6"
  }
 },
 "nbformat": 4,
 "nbformat_minor": 0
}
