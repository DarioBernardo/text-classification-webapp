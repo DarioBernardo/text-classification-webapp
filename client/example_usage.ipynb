{
 "cells": [
  {
   "cell_type": "code",
   "execution_count": 1,
   "metadata": {
    "collapsed": true
   },
   "outputs": [],
   "source": [
    "from client import classify_text_polling"
   ]
  },
  {
   "cell_type": "code",
   "execution_count": 4,
   "outputs": [
    {
     "name": "stdout",
     "output_type": "stream",
     "text": [
      "Submitting task...\n",
      "Task submitted. Task ID: ffbb8c38-fe99-4d81-b992-e652e7ca06b8\n",
      "Checking task: ffbb8c38-fe99-4d81-b992-e652e7ca06b8\t pool attempt: 1 of 15\n",
      "Checking task: ffbb8c38-fe99-4d81-b992-e652e7ca06b8\t pool attempt: 2 of 15\n",
      "Checking task: ffbb8c38-fe99-4d81-b992-e652e7ca06b8\t pool attempt: 3 of 15\n"
     ]
    },
    {
     "data": {
      "text/plain": "{'reasoning': 'The user is requesting a scoop of vanilla (V1) and a scoop of chocolate (C1).',\n 'result': ['V1', 'C1']}"
     },
     "execution_count": 4,
     "metadata": {},
     "output_type": "execute_result"
    }
   ],
   "source": [
    "classes = [\n",
    "        {\n",
    "            \"class_id\": \"S1\",\n",
    "            \"class_name\": \"Strawberry Ice Cream\",\n",
    "            \"class_description\": \"With real strawberries\"\n",
    "        },\n",
    "        {\n",
    "            \"class_id\": \"C1\",\n",
    "            \"class_name\": \"Chocolate Ice Cream\",\n",
    "            \"class_description\": \"With real chocolate\"\n",
    "        },\n",
    "        {\n",
    "            \"class_id\": \"V1\",\n",
    "            \"class_name\": \"Vanilla Ice Cream\",\n",
    "            \"class_description\": \"Made with real Madagascan vanilla\"\n",
    "        }\n",
    "    ]\n",
    "\n",
    "classify_text_polling(\n",
    "    text=\"Can I get a scoop of vanilla and a scoop of chocolate?\",\n",
    "    options={\"multilabel\": True, \"show_reasoning\": True}, classes = classes, temperature=0.0)"
   ],
   "metadata": {
    "collapsed": false
   }
  },
  {
   "cell_type": "code",
   "execution_count": null,
   "outputs": [],
   "source": [],
   "metadata": {
    "collapsed": false
   }
  }
 ],
 "metadata": {
  "kernelspec": {
   "display_name": "Python 3",
   "language": "python",
   "name": "python3"
  },
  "language_info": {
   "codemirror_mode": {
    "name": "ipython",
    "version": 2
   },
   "file_extension": ".py",
   "mimetype": "text/x-python",
   "name": "python",
   "nbconvert_exporter": "python",
   "pygments_lexer": "ipython2",
   "version": "2.7.6"
  }
 },
 "nbformat": 4,
 "nbformat_minor": 0
}
